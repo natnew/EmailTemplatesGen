{
 "cells": [
  {
   "cell_type": "code",
   "execution_count": 31,
   "metadata": {},
   "outputs": [],
   "source": [
    "# from google.colab import drive\n",
    "# drive.mount('/content/drive')"
   ]
  },
  {
   "cell_type": "code",
   "execution_count": 32,
   "metadata": {},
   "outputs": [],
   "source": [
    "# Import necessary libraries\n",
    "import pandas as pd\n",
    "import nltk\n",
    "from nltk.tokenize import word_tokenize\n",
    "from nltk.corpus import stopwords\n",
    "import os"
   ]
  },
  {
   "cell_type": "code",
   "execution_count": 33,
   "metadata": {},
   "outputs": [
    {
     "name": "stderr",
     "output_type": "stream",
     "text": [
      "[nltk_data] Downloading package punkt_tab to\n",
      "[nltk_data]     C:\\Users\\humphrys\\AppData\\Roaming\\nltk_data...\n",
      "[nltk_data]   Package punkt_tab is already up-to-date!\n",
      "[nltk_data] Downloading package punkt to\n",
      "[nltk_data]     C:\\Users\\humphrys\\AppData\\Roaming\\nltk_data...\n",
      "[nltk_data]   Package punkt is already up-to-date!\n",
      "[nltk_data] Downloading package stopwords to\n",
      "[nltk_data]     C:\\Users\\humphrys\\AppData\\Roaming\\nltk_data...\n",
      "[nltk_data]   Package stopwords is already up-to-date!\n"
     ]
    },
    {
     "data": {
      "text/plain": [
       "True"
      ]
     },
     "execution_count": 33,
     "metadata": {},
     "output_type": "execute_result"
    }
   ],
   "source": [
    "# Download necessary NLTK resources\n",
    "import nltk\n",
    "nltk.download('punkt_tab')\n",
    "nltk.download('punkt')\n",
    "nltk.download('stopwords')"
   ]
  },
  {
   "cell_type": "code",
   "execution_count": 34,
   "metadata": {},
   "outputs": [],
   "source": [
    "import pandas as pd\n",
    "\n",
    "# Load raw email data\n",
    "def load_emails():\n",
    "    # Load raw email data from text files\n",
    "    files = [\n",
    "        r\"C:/Project1/ForkNatNew/data/raw/Conference_Meetup.txt\",\n",
    "        r\"C:/Project1/ForkNatNew/data/raw/Delivering_Annual_Impact_Factor_Report.txt\",\n",
    "        r\"C:/Project1/ForkNatNew/data/raw/Delivering_Annual_Publishers_Report.txt\",\n",
    "        r\"C:/Project1/ForkNatNew/data/raw/Delivering_Contractual_Notice.txt\",\n",
    "        r\"C:/Project1/ForkNatNew/data/raw/New_Editorship_Offer.txt\",\n",
    "        r\"C:/Project1/ForkNatNew/data/raw/raw/Delivering_Royalty_Statements.txt\",\n",
    "        r\"C:/Project1/ForkNatNew/data/raw/Editor_Search_Invitation.txt\",\n",
    "        r\"C:/Project1/ForkNatNew/data/raw/Editorial_Board_Recruitment.txt\",\n",
    "        r\"C:/Project1/ForkNatNew/data/raw/Impact_Factor_Initial_Announcement.txt\",\n",
    "        r\"C:/Project1/ForkNatNew/data/raw/Industry_Initiative_Annoucement.txt\",\n",
    "        r\"C:/Project1/ForkNatNew/data/raw/New_Editorship_Offer.txt\"\n",
    "    ]\n",
    "    \n",
    "    raw_data_list = []\n",
    "    for file in files:\n",
    "        with open(file, 'r') as f:\n",
    "            text = f.read()\n",
    "            raw_data_list.append({'text': text})\n",
    "    \n",
    "    raw_data = pd.DataFrame(raw_data_list)\n",
    "    return raw_data"
   ]
  },
  {
   "cell_type": "code",
   "execution_count": 35,
   "metadata": {},
   "outputs": [],
   "source": [
    "# Example: Clean and tokenize text\n",
    "stop_words = set(stopwords.words('english'))\n",
    "\n",
    "def preprocess(text):\n",
    "    tokens = word_tokenize(text.lower())  # Convert to lowercase and tokenize\n",
    "    tokens = [word for word in tokens if word.isalnum() and word not in stop_words]  # Remove non-alphanumeric tokens and stopwords\n",
    "    return tokens\n"
   ]
  },
  {
   "cell_type": "code",
   "execution_count": 36,
   "metadata": {},
   "outputs": [],
   "source": [
    "def clean_email_data(raw_data):\n",
    "    # Apply the preprocessing function to the 'text' column and store results in 'clean_text'\n",
    "    raw_data['clean_text'] = raw_data['text'].apply(preprocess)\n",
    "    return raw_data"
   ]
  },
  {
   "cell_type": "code",
   "execution_count": 37,
   "metadata": {},
   "outputs": [
    {
     "name": "stdout",
     "output_type": "stream",
     "text": [
      "Current working directory: c:\\Project1\n",
      "No data loaded. Please check the file paths.\n"
     ]
    }
   ],
   "source": [
    "import os\n",
    "\n",
    "# Check current working directory\n",
    "files = r\"C:/Project1/ForkNatNew/data/raw/\"\n",
    "print(f\"Current working directory: {os.getcwd()}\")\n",
    "\n",
    "# Define the functions\n",
    "def load_emails():\n",
    "    # Placeholder function to load emails\n",
    "    # Replace with actual implementation\n",
    "    return pd.DataFrame()  # Assuming it returns a DataFrame\n",
    "\n",
    "def clean_email_data(data):\n",
    "    # Placeholder function to clean email data\n",
    "    # Replace with actual implementation\n",
    "    return data  # Assuming it returns cleaned data\n",
    "\n",
    "def process_email_data(data):\n",
    "    # Placeholder function to process email data\n",
    "    # Replace with actual implementation\n",
    "    return data  # Assuming it returns processed data\n",
    "\n",
    "# Load and clean the email data\n",
    "raw_data = load_emails()\n",
    "if raw_data.empty:\n",
    "    print(\"No data loaded. Please check the file paths.\")\n",
    "else:\n",
    "    clean_data = clean_email_data(raw_data)\n",
    "    print(clean_data)\n",
    "\n",
    "    # Further processing of the cleaned data\n",
    "    # For example, extracting specific information or performing analysis\n",
    "    processed_data = process_email_data(clean_data)\n",
    "    print(processed_data)"
   ]
  }
 ],
 "metadata": {
  "kernelspec": {
   "display_name": "Python 3",
   "language": "python",
   "name": "python3"
  },
  "language_info": {
   "codemirror_mode": {
    "name": "ipython",
    "version": 3
   },
   "file_extension": ".py",
   "mimetype": "text/x-python",
   "name": "python",
   "nbconvert_exporter": "python",
   "pygments_lexer": "ipython3",
   "version": "3.12.3"
  }
 },
 "nbformat": 4,
 "nbformat_minor": 2
}
