{
 "cells": [
  {
   "cell_type": "code",
   "execution_count": 31,
   "metadata": {},
   "outputs": [],
   "source": [
    "# from google.colab import drive\n",
    "# drive.mount('/content/drive')"
   ]
  },
  {
   "cell_type": "code",
   "execution_count": 2,
   "metadata": {},
   "outputs": [],
   "source": [
    "# Import necessary libraries\n",
    "import pandas as pd\n",
    "import nltk\n",
    "from nltk.tokenize import word_tokenize\n",
    "from nltk.corpus import stopwords\n",
    "import os"
   ]
  },
  {
   "cell_type": "code",
   "execution_count": 3,
   "metadata": {},
   "outputs": [
    {
     "name": "stderr",
     "output_type": "stream",
     "text": [
      "[nltk_data] Downloading package punkt_tab to\n",
      "[nltk_data]     C:\\Users\\humphrys\\AppData\\Roaming\\nltk_data...\n",
      "[nltk_data]   Package punkt_tab is already up-to-date!\n",
      "[nltk_data] Downloading package punkt to\n",
      "[nltk_data]     C:\\Users\\humphrys\\AppData\\Roaming\\nltk_data...\n",
      "[nltk_data]   Package punkt is already up-to-date!\n",
      "[nltk_data] Downloading package stopwords to\n",
      "[nltk_data]     C:\\Users\\humphrys\\AppData\\Roaming\\nltk_data...\n",
      "[nltk_data]   Package stopwords is already up-to-date!\n"
     ]
    },
    {
     "data": {
      "text/plain": [
       "True"
      ]
     },
     "execution_count": 3,
     "metadata": {},
     "output_type": "execute_result"
    }
   ],
   "source": [
    "# Download necessary NLTK resources\n",
    "import nltk\n",
    "nltk.download('punkt_tab')\n",
    "nltk.download('punkt')\n",
    "nltk.download('stopwords')"
   ]
  },
  {
   "cell_type": "code",
   "execution_count": 5,
   "metadata": {},
   "outputs": [],
   "source": [
    "import pandas as pd\n",
    "\n",
    "# Load raw email data\n",
    "def load_emails():\n",
    "    # Load raw email data from text files\n",
    "    files = [\n",
    "        r\"C:/Project1/ForkNatNew/data/raw/Conference_Meetup.txt\",\n",
    "        r\"C:/Project1/ForkNatNew/data/raw/Delivering_Annual_Impact_Factor_Report.txt\",\n",
    "        r\"C:/Project1/ForkNatNew/data/raw/Delivering_Annual_Publishers_Report.txt\",\n",
    "        r\"C:/Project1/ForkNatNew/data/raw/Delivering_Contractual_Notice.txt\",\n",
    "        r\"C:/Project1/ForkNatNew/data/raw/New_Editorship_Offer.txt\",\n",
    "        r\"C:/Project1/ForkNatNew/data/raw/raw/Delivering_Royalty_Statements.txt\",\n",
    "        r\"C:/Project1/ForkNatNew/data/raw/Editor_Search_Invitation.txt\",\n",
    "        r\"C:/Project1/ForkNatNew/data/raw/Editorial_Board_Recruitment.txt\",\n",
    "        r\"C:/Project1/ForkNatNew/data/raw/Impact_Factor_Initial_Announcement.txt\",\n",
    "        r\"C:/Project1/ForkNatNew/data/raw/Industry_Initiative_Annoucement.txt\",\n",
    "        r\"C:/Project1/ForkNatNew/data/raw/New_Editorship_Offer.txt\"\n",
    "    ]\n",
    "    \n",
    "    raw_data_list = []\n",
    "    for file in files:\n",
    "        with open(file, 'r') as f:\n",
    "            text = f.read()\n",
    "            raw_data_list.append({'text': text})\n",
    "    \n",
    "    raw_data = pd.DataFrame(raw_data_list)\n",
    "    return raw_data"
   ]
  },
  {
   "cell_type": "code",
   "execution_count": 6,
   "metadata": {},
   "outputs": [],
   "source": [
    "# Example: Clean and tokenize text\n",
    "stop_words = set(stopwords.words('english'))\n",
    "\n",
    "def preprocess(text):\n",
    "    tokens = word_tokenize(text.lower())  # Convert to lowercase and tokenize\n",
    "    tokens = [word for word in tokens if word.isalnum() and word not in stop_words]  # Remove non-alphanumeric tokens and stopwords\n",
    "    return tokens\n"
   ]
  },
  {
   "cell_type": "code",
   "execution_count": 7,
   "metadata": {},
   "outputs": [],
   "source": [
    "def clean_email_data(raw_data):\n",
    "    # Apply the preprocessing function to the 'text' column and store results in 'clean_text'\n",
    "    raw_data['clean_text'] = raw_data['text'].apply(preprocess)\n",
    "    return raw_data"
   ]
  },
  {
   "cell_type": "code",
   "execution_count": 13,
   "metadata": {},
   "outputs": [
    {
     "name": "stdout",
     "output_type": "stream",
     "text": [
      "Current working directory: c:\\Project1\n",
      "                                       Email Subject:  \\\n",
      "0   Availability to meet at [CONFERENCE/MEETING ac...   \n",
      "1                                                 NaN   \n",
      "2                                                 NaN   \n",
      "3                                                 NaN   \n",
      "4                                                 NaN   \n",
      "..                                                ...   \n",
      "83                                                NaN   \n",
      "84                                                NaN   \n",
      "85                                                NaN   \n",
      "86                                                NaN   \n",
      "87                                                NaN   \n",
      "\n",
      "                                          Email Body: Unnamed: 2 Unnamed: 3  \\\n",
      "0   [Scenario 1: Reconnecting with contact (establ...        NaN        NaN   \n",
      "1                       I hope this reaches you well!        NaN        NaN   \n",
      "2   I was wondering if you were attending CONFEREN...        NaN        NaN   \n",
      "3                  Are you available to meet on DATE?        NaN        NaN   \n",
      "4                 I look forward to hearing from you.        NaN        NaN   \n",
      "..                                                ...        ...        ...   \n",
      "83                                                NaN        NaN        NaN   \n",
      "84  Please let me know if you have any further que...        NaN        NaN   \n",
      "85                                                NaN        NaN        NaN   \n",
      "86                                         Sincerely,        NaN        NaN   \n",
      "87                                             PUB ED        NaN        NaN   \n",
      "\n",
      "   Unnamed: 4  \n",
      "0         NaN  \n",
      "1         NaN  \n",
      "2         NaN  \n",
      "3         NaN  \n",
      "4         NaN  \n",
      "..        ...  \n",
      "83        NaN  \n",
      "84        NaN  \n",
      "85        NaN  \n",
      "86        NaN  \n",
      "87        NaN  \n",
      "\n",
      "[88 rows x 5 columns]\n",
      "                                       Email Subject:  \\\n",
      "0   Availability to meet at [CONFERENCE/MEETING ac...   \n",
      "1                                                 NaN   \n",
      "2                                                 NaN   \n",
      "3                                                 NaN   \n",
      "4                                                 NaN   \n",
      "..                                                ...   \n",
      "83                                                NaN   \n",
      "84                                                NaN   \n",
      "85                                                NaN   \n",
      "86                                                NaN   \n",
      "87                                                NaN   \n",
      "\n",
      "                                          Email Body: Unnamed: 2 Unnamed: 3  \\\n",
      "0   [Scenario 1: Reconnecting with contact (establ...        NaN        NaN   \n",
      "1                       I hope this reaches you well!        NaN        NaN   \n",
      "2   I was wondering if you were attending CONFEREN...        NaN        NaN   \n",
      "3                  Are you available to meet on DATE?        NaN        NaN   \n",
      "4                 I look forward to hearing from you.        NaN        NaN   \n",
      "..                                                ...        ...        ...   \n",
      "83                                                NaN        NaN        NaN   \n",
      "84  Please let me know if you have any further que...        NaN        NaN   \n",
      "85                                                NaN        NaN        NaN   \n",
      "86                                         Sincerely,        NaN        NaN   \n",
      "87                                             PUB ED        NaN        NaN   \n",
      "\n",
      "   Unnamed: 4  \n",
      "0         NaN  \n",
      "1         NaN  \n",
      "2         NaN  \n",
      "3         NaN  \n",
      "4         NaN  \n",
      "..        ...  \n",
      "83        NaN  \n",
      "84        NaN  \n",
      "85        NaN  \n",
      "86        NaN  \n",
      "87        NaN  \n",
      "\n",
      "[88 rows x 5 columns]\n"
     ]
    }
   ],
   "source": [
    "import pandas as pd\n",
    "import os\n",
    "\n",
    "# Check current working directory\n",
    "files = r\"C:/Project1/ForkNatNew/data/raw/\"\n",
    "print(f\"Current working directory: {os.getcwd()}\")\n",
    "\n",
    "# Define the functions\n",
    "def load_emails():\n",
    "    # Load emails from a CSV file\n",
    "    file_path = os.path.join(files, \"emails.csv\")\n",
    "    if os.path.exists(file_path):\n",
    "        return pd.read_csv(file_path)\n",
    "    else:\n",
    "        print(f\"File not found: {file_path}\")\n",
    "        return pd.DataFrame()  # Return an empty DataFrame if the file is not found\n",
    "\n",
    "def clean_email_data(data):\n",
    "    # Placeholder function to clean email data\n",
    "    # Replace with actual implementation\n",
    "    return data  # Assuming it returns cleaned data\n",
    "\n",
    "def process_email_data(data):\n",
    "    # Placeholder function to process email data\n",
    "    # Replace with actual implementation\n",
    "    return data  # Assuming it returns processed data\n",
    "\n",
    "# Load and clean the email data\n",
    "raw_data = load_emails()\n",
    "if raw_data.empty:\n",
    "    print(\"No data loaded. Please check the file paths.\")\n",
    "else:\n",
    "    clean_data = clean_email_data(raw_data)\n",
    "    print(clean_data)\n",
    "\n",
    "    # Further processing of the cleaned data\n",
    "    # For example, extracting specific information or performing analysis\n",
    "    processed_data = process_email_data(clean_data)\n",
    "    print(processed_data)"
   ]
  }
 ],
 "metadata": {
  "kernelspec": {
   "display_name": "Python 3",
   "language": "python",
   "name": "python3"
  },
  "language_info": {
   "codemirror_mode": {
    "name": "ipython",
    "version": 3
   },
   "file_extension": ".py",
   "mimetype": "text/x-python",
   "name": "python",
   "nbconvert_exporter": "python",
   "pygments_lexer": "ipython3",
   "version": "3.12.3"
  }
 },
 "nbformat": 4,
 "nbformat_minor": 2
}
