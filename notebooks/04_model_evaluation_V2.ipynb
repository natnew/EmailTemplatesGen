{
 "cells": [
  {
   "cell_type": "code",
   "execution_count": 1,
   "metadata": {},
   "outputs": [
    {
     "name": "stderr",
     "output_type": "stream",
     "text": [
      "c:\\Users\\humphrys\\AppData\\Local\\Programs\\Python\\Python312\\Lib\\site-packages\\tqdm\\auto.py:21: TqdmWarning: IProgress not found. Please update jupyter and ipywidgets. See https://ipywidgets.readthedocs.io/en/stable/user_install.html\n",
      "  from .autonotebook import tqdm as notebook_tqdm\n"
     ]
    }
   ],
   "source": [
    "# Import necessary libraries\n",
    "import pandas as pd\n",
    "import torch\n",
    "from transformers import GPT2LMHeadModel, GPT2Tokenizer\n",
    "from nltk.translate.bleu_score import sentence_bleu"
   ]
  },
  {
   "cell_type": "code",
   "execution_count": 2,
   "metadata": {},
   "outputs": [],
   "source": [
    "# Load preprocessed data\n",
    "cleaned_data = pd.read_csv(r\"C:/Project1/ForkNatNew/data/processed/cleaned_data.csv\")"
   ]
  },
  {
   "cell_type": "code",
   "execution_count": 3,
   "metadata": {},
   "outputs": [],
   "source": [
    "# Load trained GPT-2 model and tokenizer\n",
    "model = GPT2LMHeadModel.from_pretrained('models/trained_gpt2_model')\n",
    "tokenizer = GPT2Tokenizer.from_pretrained('models/trained_gpt2_tokenizer')"
   ]
  },
  {
   "cell_type": "code",
   "execution_count": 4,
   "metadata": {},
   "outputs": [],
   "source": [
    "# Set pad token to eos token and padding side to left\n",
    "tokenizer.pad_token = tokenizer.eos_token\n",
    "tokenizer.padding_side = 'left'"
   ]
  },
  {
   "cell_type": "code",
   "execution_count": 5,
   "metadata": {},
   "outputs": [],
   "source": [
    "# Prepare evaluation data\n",
    "texts = [\" \".join(tokens) for tokens in cleaned_data['clean_text']]\n",
    "inputs = tokenizer(texts, return_tensors=\"pt\", padding=True, truncation=True, max_length=512)"
   ]
  },
  {
   "cell_type": "code",
   "execution_count": 6,
   "metadata": {},
   "outputs": [
    {
     "data": {
      "text/plain": [
       "GPT2LMHeadModel(\n",
       "  (transformer): GPT2Model(\n",
       "    (wte): Embedding(50257, 768)\n",
       "    (wpe): Embedding(1024, 768)\n",
       "    (drop): Dropout(p=0.1, inplace=False)\n",
       "    (h): ModuleList(\n",
       "      (0-11): 12 x GPT2Block(\n",
       "        (ln_1): LayerNorm((768,), eps=1e-05, elementwise_affine=True)\n",
       "        (attn): GPT2SdpaAttention(\n",
       "          (c_attn): Conv1D(nf=2304, nx=768)\n",
       "          (c_proj): Conv1D(nf=768, nx=768)\n",
       "          (attn_dropout): Dropout(p=0.1, inplace=False)\n",
       "          (resid_dropout): Dropout(p=0.1, inplace=False)\n",
       "        )\n",
       "        (ln_2): LayerNorm((768,), eps=1e-05, elementwise_affine=True)\n",
       "        (mlp): GPT2MLP(\n",
       "          (c_fc): Conv1D(nf=3072, nx=768)\n",
       "          (c_proj): Conv1D(nf=768, nx=3072)\n",
       "          (act): NewGELUActivation()\n",
       "          (dropout): Dropout(p=0.1, inplace=False)\n",
       "        )\n",
       "      )\n",
       "    )\n",
       "    (ln_f): LayerNorm((768,), eps=1e-05, elementwise_affine=True)\n",
       "  )\n",
       "  (lm_head): Linear(in_features=768, out_features=50257, bias=False)\n",
       ")"
      ]
     },
     "execution_count": 6,
     "metadata": {},
     "output_type": "execute_result"
    }
   ],
   "source": [
    "# Move model to GPU if available\n",
    "device = torch.device(\"cuda\" if torch.cuda.is_available() else \"cpu\")\n",
    "model.to(device)"
   ]
  },
  {
   "cell_type": "code",
   "execution_count": 7,
   "metadata": {},
   "outputs": [
    {
     "name": "stderr",
     "output_type": "stream",
     "text": [
      "Setting `pad_token_id` to `eos_token_id`:50256 for open-end generation.\n"
     ]
    }
   ],
   "source": [
    "# Generate predictions\n",
    "model.eval()\n",
    "with torch.no_grad():\n",
    "    outputs = model.generate(inputs['input_ids'].to(device), attention_mask=inputs['attention_mask'].to(device), max_new_tokens=100)"
   ]
  },
  {
   "cell_type": "code",
   "execution_count": 8,
   "metadata": {},
   "outputs": [],
   "source": [
    "# Decode predictions\n",
    "predictions = [tokenizer.decode(output, skip_special_tokens=True) for output in outputs]"
   ]
  },
  {
   "cell_type": "code",
   "execution_count": 9,
   "metadata": {},
   "outputs": [
    {
     "name": "stdout",
     "output_type": "stream",
     "text": [
      "Prediction 1: [ ' e m a i l ' ,   ' s u b j e c t ' ,   ' a n n u a l ' ,   ' i m p a c t ' ,   ' f a c t o r ' ,   ' j o u r n a l ' ,   ' e m a i l ' ,   ' b o d y ' ,   ' d e a r ' ,   ' p r o m i s e d ' ,   ' a t t a c h i n g ' ,   ' p a c k e t ' ,   ' a d d i t i o n a l ' ,   ' i n f o r m a t i o n ' ,   ' r e l a t e d ' ,   ' i m p a c t ' ,   ' f a c t o r ' ,   ' j o u r n a l ' ,   ' r a n k i n g ' ,   ' j o u r n a l ' ,   ' f e e l ' ,   ' f r e e ' ,   ' t o u c h ' ,   ' q u e s t i o n s ' ,   ' i n f o r m a t i o n ' ,   ' c o n t a i n e d ' ,   ' s i n c e r e l y ' ,   ' p u b ' ,   ' e d ' ]\n",
      "BLEU score: 0\n",
      "Prediction 2: [ ' e m a i l ' ,   ' s u b j e c t ' ,   ' s o c i e t y ' ,   ' c o n t r a c t ' ,   ' r e n e w a l ' ,   ' e m a i l ' ,   ' b o d y ' ,   ' h i ' ,   ' n a m e ' ,   ' h o p e ' ,   ' w e l l ' ,   ' c o n t r a c t ' ,   ' s a g e ' ,   ' s o c i e t y ' ,   ' d u e ' ,   ' e x p i r e ' ,   ' d a t e ' ,   ' p e r ' ,   ' c o n t r a c t ' ,   ' e m a i l ' ,   ' s e r v e s ' ,   ' n u m b e r ' ,   ' n o t i c e ' ,   ' i n t e n t i o n ' ,   ' r e n e w ' ,   ' a g r e e m e n t ' ,   ' p l e a s e ' ,   ' s e e ' ,   ' a t t a c h e d ' ,   ' s a g e ' ,   ' r e n e w a l ' ,   ' o f f e r ' ,   ' p r o p o s e ' ,   ' s h o r t ' ,   ' l i s t ' ,   ' t e r m s ' ,   ' v a l u e ' ,   ' p a r t n e r s h i p ' ,   ' s o c i e t y ' ,   ' h o p e f u l ' ,   ' s e e ' ,   ' c o n t i n u e ' ,   ' m a n y ' ,   ' y e a r s ' ,   ' a t t a c h e d ' ,   ' l e t t e r ' ,   ' d e l i n e a t e s ' ,   ' r e n e w a l ' ,   ' s e r v e s ' ,   ' p l e a s e ' ,   ' s e r v e s ' ,   ' p r o p s e ' ,   ' s e r v e s ' ,   ' p r o p s e ' ,   ' s e r v e s ' ,   ' p r o p s e ' ,   ' s\n",
      "BLEU score: 0\n",
      "Prediction 3: [ ' e m a i l ' ,   ' s u b j e c t ' ,   ' y e a r ' ,   ' r o y a l t y ' ,   ' s t a t e m e n t ' ,   ' e m a i l ' ,   ' b o d y ' ,   ' a t t a c h e d ' ,   ' j o u r n a l ' ,   ' r o y a l t y ' ,   ' s t a t e m e n t ' ,   ' y e a r ' ,   ' r o y a l t y ' ,   ' d u e ' ,   ' e l e c t r o n i c ' ,   ' p a y m e n t s ' ,   ' m a d e ' ,   ' d a t e ' ,   ' s a g e ' ,   ' f i n a n c e ' ,   ' t e a m ' ,   ' m a i l ' ,   ' p r i n t ' ,   ' c o p y ' ,   ' r o y a l t y ' ,   ' s t a t e m e n t ' ,   ' s i n c e ' ,   ' p a y m e n t s ' ,   ' c o m m u n i c a t i o n s ' ,   ' e l e c t r o n i c ' ,   ' a n o t h e r ' ,   ' c o p y ' ,   ' r o y a l t y ' ,   ' s t a t e m e n t ' ,   ' e m a i l e d ' ,   ' r e m i t t a n c e ' ,   ' a d v i c e ' ,   ' d e s i g n a t e d ' ,   ' f i n a n c e ' ,   ' c o n t a c t ' ,   ' e m a i l ' ,   ' l i n e ' ,   ' j o u r n a l ' ,   ' p a y m e n t ' ,   ' p r i n t ' ,   ' c o m u n i c a t i o n s ' ,   ' p a y m e n t s ' ,   ' c o m u n i c a t i o n s ' ,   ' p a y m e n t s ' ,   ' p r i n t ' ,   ' c o m u n i c a t i o n s ' ,   '\n",
      "BLEU score: 0\n",
      "Prediction 4: [ ' e m a i l ' ,   ' s u b j e c t ' ,   ' i n v i t a t i o n ' ,   ' a p p l y ' ,   ' j o u r n a l ' ,   ' n a m e ' ,   ' e m a i l ' ,   ' b o d y ' ,   ' d e a r ' ,   ' n a m e ' ,   ' h o p e ' ,   ' e m a i l ' ,   ' f i n d s ' ,   ' w e l l ' ,   ' r e a c h i n g ' ,   ' s a g e ' ,   ' p u b l i s h i n g ' ,   ' r e g a r d i n g ' ,   ' e x c i t i n g ' ,   ' o p p o r t u n i t y ' ,   ' j o u r n a l ' ,   ' n a m e ' ,   ' i m p a c t ' ,   ' f a c t o r ' ,   ' x x ' ,   ' d r ' ,   ' o u t g o i n g ' ,   ' e d i t o r ' ,   ' s t e p p i n g ' ,   ' e n d ' ,   ' y e a r ' ,   ' g r e a t l y ' ,   ' v a l u e d ' ,   ' p a r t n e r s h i p ' ,   ' o u t g o i n g ' ,   ' e d i t o r ' ,   ' a p p r e c i a t e ' ,   ' r e c o m m e n d a t i o n ' ,   ' m a y ' ,   ' s u i t a b l e ' ,   ' c a n d i d a t e ' ,   ' s u c c e e d ' ,   ' i n v i t i n g ' ,   ' a p p l i c a t i o n s ' ,   ' p o r t u n i t y ' ,   ' e x c i t i n g ' ,   ' p u b l i s h i n g ' ,   ' e x c i t i n g ' ,   ' p u b l i s h i n g ' ,   ' e x c i t i n g ' ,   ' p u b l i s h i n g ' ,   ' e x c i\n",
      "BLEU score: 0\n",
      "Prediction 5: [ ' e m a i l ' ,   ' s u b j e c t ' ,   ' s t r e n g t h e n i n g ' ,   ' e d i t o r i a l ' ,   ' b o a r d ' ,   ' b e s t ' ,   ' p r a c t i c e s ' ,   ' r e c r u i t m e n t ' ,   ' e n g a g e m e n t ' ,   ' e m a i l ' ,   ' b o d y ' ,   ' w o r k ' ,   ' b u i l d ' ,   ' s t r e n g t h e n ' ,   ' j o u r n a l ' ,   ' e d i t o r i a l ' ,   ' b o a r d ' ,   ' i m p o r t a n t ' ,   ' s e t ' ,   ' c l e a r ' ,   ' e x p e c t a t i o n s ' ,   ' p o t e n t i a l ' ,   ' m e m b e r s ' ,   ' r e c r u i t i n g ' ,   ' o u t l i n e ' ,   ' k e y ' ,   ' d u t i e s ' ,   ' s u b m i t t i n g ' ,   ' r e s e a r c h ' ,   ' r e v i e w ' ,   ' p a p e r ' ,   ' e v e r y ' ,   ' y e a r s ' ,   ' r e v i e w i n g ' ,   ' d e l a y e d ' ,   ' p a p e r s ' ,   ' s u g g e s t i n g ' ,   ' s p e c i a l ' ,   ' i s s u e ' ,   ' t o p i c s ' ,   ' b o a r d ' ,   ' m e m b e r s ' ,   ' a l s o ' ,   ' p a p e r s ' ,   ' s u g e s t i n g ' ,   ' p a p e r s ' ,   ' s u g e s t i n g ' ,   ' p a p e r s ' ,   ' s u g e s t i n g ' ,   ' p a p e r s ' ,   ' s u g e s t i n g ' ,\n",
      "BLEU score: 0\n",
      "Prediction 6: [ ' e m a i l ' ,   ' s u b j e c t ' ,   ' u p d a t e d ' ,   ' i m p a c t ' ,   ' f a c t o r ' ,   ' j o u r n a l ' ,   ' e m a i l ' ,   ' b o d y ' ,   ' g r e a t ' ,   ' n e w s ' ,   ' d e a r ' ,   ' g r e a t ' ,   ' n e w s ' ,   ' i m p a c t ' ,   ' f a c t o r s ' ,   ' r e l e a s e d ' ,   ' 2 0 x x ' ,   ' j o u r n a l ' ,   ' a c h i e v e d ' ,   ' h i g h e r ' ,   ' i m p a c t ' ,   ' h i g h e s t ' ,   ' i m p a c t ' ,   ' f a c t o r ' ,   ' f i r s t ' ,   ' i m p a c t ' ,   ' f a c t o r ' ,   ' a d d i t i o n a l l y ' ,   ' j o u r n a l ' ,   ' r a n k e d ' ,   ' c a t e g o r y ' ,   ' s e n d i n g ' ,   ' p a c k e t ' ,   ' a d d i t i o n a l ' ,   ' i n f o r m a t i o n ' ,   ' n e x t ' ,   ' b u s i n e s s ' ,   ' d a y s ' ,   ' c o n g r a t u l a t i o n s ' ,   ' t h a n k ' ,   ' h a r d ' ,   ' w o r k ' ,   ' p u t ' ,   ' j o u r n a l ' ,   ' s a g e ' ,   ' p r o s t ' ,   ' p r o s t ' ,   ' p r o s t ' ,   ' p r o s t ' ,   ' p r o s t ' ,   ' p r o s t ' ,   ' p r o s t ' ,   ' p r o s t ' ,   ' p r o s t ' ,   ' p r o s t ' ,   ' p r o\n",
      "BLEU score: 0\n",
      "Prediction 7: [ ' e m a i l ' ,   ' s u b j e c t ' ,   ' r e p l a c e ' ,   ' s u b j e c t ' ,   ' l i n e ' ,   ' e m a i l ' ,   ' e m a i l ' ,   ' b o d y ' ,   ' r e p l a c e ' ,   ' e m a i l ' ,   ' b o d y ' ,   ' r e m i n d e r ' ,   ' p l e a s e ' ,   ' u s e ' ,   ' y e l l o w ' ,   ' h i g h l i g h t s ' ,   ' i n d i c a t e ' ,   ' c u s t o m ' ,   ' i n f o r m a t i o n ' ,   ' u p d a t e d ' ,   ' s e n d i n g ' ,   ' e m a i l ' ,   ' p l e a s e ' ,   ' h y p e r l i n k ' ,   ' m a n y ' ,   ' e x t e r n a l ' ,   ' r e s o u r c e s ' ,   ' p o s s i b l e ' ]\n",
      "BLEU score: 0\n",
      "Prediction 8: [ ' e m a i l ' ,   ' s u b j e c t ' ,   ' j o u r n a l ' ,   ' e d i t o r ' ,   ' p o s i t i o n ' ,   ' e m a i l ' ,   ' b o d y ' ,   ' d e a r ' ,   ' c a n d i d a t e ' ,   ' t h a n k ' ,   ' a p p l y i n g ' ,   ' p o s i t i o n ' ,   ' j o u r n a l ' ,   ' c a r e f u l ' ,   ' c o n s i d e r a t i o n ' ,   ' a p p l i c a t i o n ' ,   ' m a t e r i a l s ' ,   ' i n t e r v i e w ' ,   ' s a g e ' ,   ' p l e a s e d ' ,   ' o f f e r ' ,   ' i n i t i a l ' ,   ' t e r m ' ,   ' b e g i n n i n g ' ,   ' j a n u a r y ' ,   ' 2 0 x x ' ,   ' p o s i t i o n ' ,   ' p a i d ' ,   ' a n n u a l ' ,   ' s t i p e n d ' ,   ' x ' ,   ' x x x ' ,   ' p l e a s e ' ,   ' l e t ' ,   ' k n o w ' ,   ' q u e s t i o n s ' ,   ' r o l e ' ,   ' l o o k ' ,   ' f o r w a r d ' ,   ' r e s p o n s e ' ,   ' o f f e r ' ,   ' s i n c e r e l y ' ,   ' p u b ' ,   ' e d ' ]\n",
      "BLEU score: 0\n"
     ]
    }
   ],
   "source": [
    "# Example reference text for BLEU score evaluation\n",
    "reference_texts = [\"I hope this email finds you well.\"] * len(predictions)  # Ensure the list is long enough\n",
    "\n",
    "# Calculate BLEU scores\n",
    "for i, prediction in enumerate(predictions):\n",
    "    reference = [reference_texts[i].split()]  # Tokenize reference text\n",
    "    candidate = prediction.split()  # Tokenize generated text\n",
    "    bleu_score = sentence_bleu(reference, candidate)\n",
    "    print(f\"Prediction {i+1}: {prediction}\")\n",
    "    print(f\"BLEU score: {bleu_score}\")"
   ]
  }
 ],
 "metadata": {
  "kernelspec": {
   "display_name": "Python 3",
   "language": "python",
   "name": "python3"
  },
  "language_info": {
   "codemirror_mode": {
    "name": "ipython",
    "version": 3
   },
   "file_extension": ".py",
   "mimetype": "text/x-python",
   "name": "python",
   "nbconvert_exporter": "python",
   "pygments_lexer": "ipython3",
   "version": "3.12.3"
  }
 },
 "nbformat": 4,
 "nbformat_minor": 2
}
