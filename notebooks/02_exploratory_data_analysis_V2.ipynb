# Import necessary libraries
# pandas for data manipulation.
# matplotlib.pyplot for plotting graphs.
# WordCloud for generating word clouds.
# os for interacting with the operating system.

import pandas as pd
import matplotlib.pyplot as plt
from wordcloud import WordCloud
import os

# Check current working directory
print(f"Current working directory: {os.getcwd()}")

# list the files in the specified directory to confirm that the file cleaned_data.csv is present
# print("Files in '/content/drive/My Drive/data/processed' directory:")
# print(os.listdir('/content/drive/My Drive/data/processed'))

# Load preprocessed data
# This line loads the preprocessed data from the CSV file into a pandas DataFrame called cleaned_data.
cleaned_data = pd.read_csv('/data/processed/cleaned_data.csv')

# Generate a word cloud from the cleaned text data
# This combines all the cleaned text data into a single string.
# It joins the tokens (words) from each email into a single string and then joins all these strings together with spaces in between.
text = ' '.join([' '.join(tokens) for tokens in cleaned_data['clean_text']])
# This generates a word cloud from the combined text.
# A word cloud is a visual representation of the most frequent words in the text, where the size of each word indicates its frequency.
wordcloud = WordCloud(width=800, height=400, background_color="white").generate(text)

# Display the word cloud
# These lines display the word cloud using Matplotlib:
plt.figure(figsize=(10, 5))
plt.imshow(wordcloud, interpolation='bilinear')
plt.axis("off")
plt.show()

# Plot distribution of email lengths
# This line calculates the length of each email in terms of the number of tokens (words) it contains.
# It applies the len function to the clean_text column of the DataFrame.
email_lengths = cleaned_data['clean_text'].apply(len)

plt.figure(figsize=(10, 6)) # Sets the size of the figure.
plt.hist(email_lengths, bins=20, color='blue', edgecolor='black') # Creates the histogram, with bins=20 specifying the number of bins (intervals) for the data.
plt.title('Distribution of Email Lengths (in tokens)') # Adds a title to the plot.
plt.xlabel('Number of Tokens') # Labels the x-axis.
plt.ylabel('Frequency') # Labels the y-axis.
plt.show() # Displays the plot
