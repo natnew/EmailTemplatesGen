{
 "cells": [
  {
   "cell_type": "code",
   "execution_count": null,
   "metadata": {},
   "outputs": [],
   "source": [
    "# Install necessary libraries\n",
    "!pip install transformers datasets nltk rouge-score"
   ]
  },
  {
   "cell_type": "code",
   "execution_count": null,
   "metadata": {},
   "outputs": [],
   "source": [
    "# Import libraries\n",
    "import torch\n",
    "import nltk\n",
    "from transformers import GPT2LMHeadModel, GPT2Tokenizer, BartForConditionalGeneration, BartTokenizer, T5ForConditionalGeneration, T5Tokenizer\n",
    "from nltk.translate.bleu_score import sentence_bleu, SmoothingFunction\n",
    "from rouge_score import rouge_scorer\n",
    "import openai"
   ]
  },
  {
   "cell_type": "code",
   "execution_count": null,
   "metadata": {},
   "outputs": [],
   "source": [
    "# Download necessary NLTK resources\n",
    "nltk.download('punkt')"
   ]
  },
  {
   "cell_type": "code",
   "execution_count": null,
   "metadata": {},
   "outputs": [],
   "source": [
    "# Sample reference and generated sentences (replace with actual generated emails from each model)\n",
    "reference = [\n",
    "    \"Thank you for attending the meeting. Please find attached the proposal we discussed. Let me know your thoughts.\",\n",
    "    \"It was great meeting with you. I’ve attached the necessary documents for the next steps.\"\n",
    "]\n",
    "\n",
    "# Example generated sentences from different models\n",
    "generated_gpt2 = [\n",
    "    \"Thank you for attending the meeting. Attached is the proposal. Let me know your thoughts.\",\n",
    "    \"It was great meeting with you. Attached are the documents for the next steps.\"\n",
    "]\n",
    "\n",
    "generated_bart = [\n",
    "    \"Thanks for attending the meeting. I've attached the proposal for review. Let me know your feedback.\",\n",
    "    \"It was a pleasure meeting you. Here are the documents we discussed for next steps.\"\n",
    "]\n",
    "\n",
    "generated_t5 = [\n",
    "    \"Thank you for coming to the meeting. I have attached the proposal. Looking forward to your feedback.\",\n",
    "    \"It was nice to meet you. I've attached the documents for the next steps.\"\n",
    "]\n",
    "\n",
    "generated_gpt3 = [\n",
    "    \"Thank you for attending the meeting. I’ve attached the proposal for your review. Let me know what you think.\",\n",
    "    \"It was a pleasure meeting you. The documents for the next steps are attached.\"\n",
    "]\n",
    "\n",
    "generated_gpt4 = [\n",
    "    \"Thank you for attending the meeting. Attached is the proposal for your consideration. I look forward to your feedback.\",\n",
    "    \"It was great to meet with you. The necessary documents for the next steps are attached.\"\n",
    "]"
   ]
  },
  {
   "cell_type": "code",
   "execution_count": null,
   "metadata": {},
   "outputs": [],
   "source": [
    "# Define function to calculate BLEU score\n",
    "def calculate_bleu(reference, generated):\n",
    "    smoothie = SmoothingFunction().method4  # Smoothing for short texts\n",
    "    bleu_scores = []\n",
    "    for ref, gen in zip(reference, generated):\n",
    "        ref_tokens = [nltk.word_tokenize(ref)]\n",
    "        gen_tokens = nltk.word_tokenize(gen)\n",
    "        bleu_score = sentence_bleu(ref_tokens, gen_tokens, smoothing_function=smoothie)\n",
    "        bleu_scores.append(bleu_score)\n",
    "    return sum(bleu_scores) / len(bleu_scores)"
   ]
  },
  {
   "cell_type": "code",
   "execution_count": null,
   "metadata": {},
   "outputs": [],
   "source": [
    "# Define function to calculate ROUGE score\n",
    "def calculate_rouge(reference, generated):\n",
    "    scorer = rouge_scorer.RougeScorer(['rouge1', 'rouge2', 'rougeL'], use_stemmer=True)\n",
    "    rouge_scores = []\n",
    "    for ref, gen in zip(reference, generated):\n",
    "        scores = scorer.score(ref, gen)\n",
    "        rouge_scores.append(scores)\n",
    "    avg_rouge = {\n",
    "        \"rouge1\": sum([score['rouge1'].fmeasure for score in rouge_scores]) / len(rouge_scores),\n",
    "        \"rouge2\": sum([score['rouge2'].fmeasure for score in rouge_scores]) / len(rouge_scores),\n",
    "        \"rougeL\": sum([score['rougeL'].fmeasure for score in rouge_scores]) / len(rouge_scores),\n",
    "    }\n",
    "    return avg_rouge"
   ]
  },
  {
   "cell_type": "code",
   "execution_count": null,
   "metadata": {},
   "outputs": [],
   "source": [
    "# Calculate BLEU and ROUGE scores for each model\n",
    "models = {\n",
    "    \"GPT-2\": generated_gpt2,\n",
    "    \"BART\": generated_bart,\n",
    "    \"T5\": generated_t5,\n",
    "    \"GPT-3\": generated_gpt3,\n",
    "    \"GPT-4\": generated_gpt4\n",
    "}\n",
    "\n",
    "bleu_scores = {}\n",
    "rouge_scores = {}\n",
    "\n",
    "for model_name, generated_emails in models.items():\n",
    "    bleu_scores[model_name] = calculate_bleu(reference, generated_emails)\n",
    "    rouge_scores[model_name] = calculate_rouge(reference, generated_emails)"
   ]
  },
  {
   "cell_type": "code",
   "execution_count": null,
   "metadata": {},
   "outputs": [],
   "source": [
    "# Display BLEU scores\n",
    "print(\"BLEU Scores:\")\n",
    "for model, score in bleu_scores.items():\n",
    "    print(f\"{model}: {score:.4f}\")"
   ]
  },
  {
   "cell_type": "code",
   "execution_count": null,
   "metadata": {},
   "outputs": [],
   "source": [
    "# Display ROUGE scores\n",
    "print(\"\\nROUGE Scores:\")\n",
    "for model, rouge in rouge_scores.items():\n",
    "    print(f\"{model}: ROUGE-1: {rouge['rouge1']:.4f}, ROUGE-2: {rouge['rouge2']:.4f}, ROUGE-L: {rouge['rougeL']:.4f}\")"
   ]
  },
  {
   "cell_type": "code",
   "execution_count": null,
   "metadata": {},
   "outputs": [],
   "source": []
  }
 ],
 "metadata": {
  "language_info": {
   "name": "python"
  }
 },
 "nbformat": 4,
 "nbformat_minor": 2
}
