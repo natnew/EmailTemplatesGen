{
 "cells": [
  {
   "cell_type": "code",
   "execution_count": null,
   "metadata": {},
   "outputs": [],
   "source": [
    "!pip install python-docx\n"
   ]
  },
  {
   "cell_type": "code",
   "execution_count": null,
   "metadata": {},
   "outputs": [],
   "source": [
    "import os\n",
    "import docx"
   ]
  },
  {
   "cell_type": "code",
   "execution_count": null,
   "metadata": {},
   "outputs": [],
   "source": [
    "# Function to convert a single Word file to text\n",
    "def docx_to_txt(input_path, output_path):\n",
    "    # Load the Word file\n",
    "    doc = docx.Document(input_path)\n",
    "    # Extract text from each paragraph and join them with a newline\n",
    "    text = \"\\n\".join([para.text for para in doc.paragraphs])\n",
    "    # Save the extracted text to a .txt file\n",
    "    with open(output_path, 'w', encoding='utf-8') as txt_file:\n",
    "        txt_file.write(text)"
   ]
  },
  {
   "cell_type": "code",
   "execution_count": null,
   "metadata": {},
   "outputs": [],
   "source": [
    "# Function to convert all .docx files in a folder to .txt\n",
    "def convert_all_docx_in_folder(folder_path):\n",
    "    # Loop through each file in the folder\n",
    "    for filename in os.listdir(folder_path):\n",
    "        # Check if the file is a Word document (.docx)\n",
    "        if filename.endswith(\".docx\"):\n",
    "            # Full path to the input Word file\n",
    "            input_file = os.path.join(folder_path, filename)\n",
    "            # Construct the output .txt filename\n",
    "            txt_filename = filename.replace(\".docx\", \".txt\")\n",
    "            # Full path to the output .txt file\n",
    "            output_file = os.path.join(folder_path, txt_filename)\n",
    "            # Convert the Word file to text\n",
    "            docx_to_txt(input_file, output_file)\n",
    "            print(f\"Converted: {filename} -> {txt_filename}\")"
   ]
  },
  {
   "cell_type": "code",
   "execution_count": null,
   "metadata": {},
   "outputs": [],
   "source": [
    "# Define the folder path where your Word files are located\n",
    "folder_path = \"/path/to/your/word/files\""
   ]
  },
  {
   "cell_type": "code",
   "execution_count": null,
   "metadata": {},
   "outputs": [],
   "source": [
    "# Call the function to convert all .docx files in the folder\n",
    "convert_all_docx_in_folder(folder_path)"
   ]
  }
 ],
 "metadata": {
  "language_info": {
   "name": "python"
  }
 },
 "nbformat": 4,
 "nbformat_minor": 2
}
